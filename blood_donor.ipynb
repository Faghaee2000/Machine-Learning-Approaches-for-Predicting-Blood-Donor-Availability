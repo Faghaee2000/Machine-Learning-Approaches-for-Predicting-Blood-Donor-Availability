{
 "cells": [
  {
   "cell_type": "code",
   "execution_count": 1,
   "id": "33469802",
   "metadata": {},
   "outputs": [],
   "source": [
    "import pandas as pd"
   ]
  },
  {
   "cell_type": "code",
   "execution_count": 2,
   "id": "66549970",
   "metadata": {},
   "outputs": [],
   "source": [
    "df = pd.read_csv(\"blood_donor_dataset.csv\")"
   ]
  },
  {
   "cell_type": "code",
   "execution_count": 3,
   "id": "a6ebf6fb",
   "metadata": {},
   "outputs": [
    {
     "data": {
      "text/html": [
       "<div>\n",
       "<style scoped>\n",
       "    .dataframe tbody tr th:only-of-type {\n",
       "        vertical-align: middle;\n",
       "    }\n",
       "\n",
       "    .dataframe tbody tr th {\n",
       "        vertical-align: top;\n",
       "    }\n",
       "\n",
       "    .dataframe thead th {\n",
       "        text-align: right;\n",
       "    }\n",
       "</style>\n",
       "<table border=\"1\" class=\"dataframe\">\n",
       "  <thead>\n",
       "    <tr style=\"text-align: right;\">\n",
       "      <th></th>\n",
       "      <th>donor_id</th>\n",
       "      <th>name</th>\n",
       "      <th>email</th>\n",
       "      <th>password</th>\n",
       "      <th>contact_number</th>\n",
       "      <th>city</th>\n",
       "      <th>blood_group</th>\n",
       "      <th>availability</th>\n",
       "      <th>months_since_first_donation</th>\n",
       "      <th>number_of_donation</th>\n",
       "      <th>pints_donated</th>\n",
       "      <th>created_at</th>\n",
       "    </tr>\n",
       "  </thead>\n",
       "  <tbody>\n",
       "    <tr>\n",
       "      <th>0</th>\n",
       "      <td>1b8b4c828a</td>\n",
       "      <td>Norma Fisher</td>\n",
       "      <td>ysullivan@yahoo.com</td>\n",
       "      <td>P5hX6Syg*A</td>\n",
       "      <td>+61 461706749</td>\n",
       "      <td>Hobart</td>\n",
       "      <td>A+</td>\n",
       "      <td>No</td>\n",
       "      <td>65</td>\n",
       "      <td>31</td>\n",
       "      <td>62</td>\n",
       "      <td>2017-03-17</td>\n",
       "    </tr>\n",
       "    <tr>\n",
       "      <th>1</th>\n",
       "      <td>a6a3f7fe55</td>\n",
       "      <td>Eugene Bowman</td>\n",
       "      <td>hramos@brown-sellers.com</td>\n",
       "      <td>b6Wq6Cqz@5</td>\n",
       "      <td>+61 450709944</td>\n",
       "      <td>Darwin</td>\n",
       "      <td>AB-</td>\n",
       "      <td>Yes</td>\n",
       "      <td>64</td>\n",
       "      <td>8</td>\n",
       "      <td>16</td>\n",
       "      <td>2016-11-11</td>\n",
       "    </tr>\n",
       "    <tr>\n",
       "      <th>2</th>\n",
       "      <td>cee6478144</td>\n",
       "      <td>Sheri Bolton DDS</td>\n",
       "      <td>jasmine85@hotmail.com</td>\n",
       "      <td>$9RB51m#s7</td>\n",
       "      <td>+61 428756361</td>\n",
       "      <td>Melbourne</td>\n",
       "      <td>AB+</td>\n",
       "      <td>Yes</td>\n",
       "      <td>39</td>\n",
       "      <td>6</td>\n",
       "      <td>6</td>\n",
       "      <td>2022-02-25</td>\n",
       "    </tr>\n",
       "    <tr>\n",
       "      <th>3</th>\n",
       "      <td>5986bc55f9</td>\n",
       "      <td>Kelly Boyd</td>\n",
       "      <td>pattylawrence@riley-hayes.com</td>\n",
       "      <td>@5Tdg(4kCm</td>\n",
       "      <td>+61 454318320</td>\n",
       "      <td>Darwin</td>\n",
       "      <td>A-</td>\n",
       "      <td>No</td>\n",
       "      <td>55</td>\n",
       "      <td>20</td>\n",
       "      <td>20</td>\n",
       "      <td>2025-04-04</td>\n",
       "    </tr>\n",
       "    <tr>\n",
       "      <th>4</th>\n",
       "      <td>93246afe6c</td>\n",
       "      <td>Taylor Guzman</td>\n",
       "      <td>martinezjacob@wilson.com</td>\n",
       "      <td>x!)9Ag@J*7</td>\n",
       "      <td>+61 484158472</td>\n",
       "      <td>Darwin</td>\n",
       "      <td>O-</td>\n",
       "      <td>No</td>\n",
       "      <td>7</td>\n",
       "      <td>35</td>\n",
       "      <td>35</td>\n",
       "      <td>2022-11-30</td>\n",
       "    </tr>\n",
       "  </tbody>\n",
       "</table>\n",
       "</div>"
      ],
      "text/plain": [
       "     donor_id              name                          email    password  \\\n",
       "0  1b8b4c828a      Norma Fisher            ysullivan@yahoo.com  P5hX6Syg*A   \n",
       "1  a6a3f7fe55     Eugene Bowman       hramos@brown-sellers.com  b6Wq6Cqz@5   \n",
       "2  cee6478144  Sheri Bolton DDS          jasmine85@hotmail.com  $9RB51m#s7   \n",
       "3  5986bc55f9        Kelly Boyd  pattylawrence@riley-hayes.com  @5Tdg(4kCm   \n",
       "4  93246afe6c     Taylor Guzman       martinezjacob@wilson.com  x!)9Ag@J*7   \n",
       "\n",
       "  contact_number       city blood_group availability  \\\n",
       "0  +61 461706749     Hobart          A+           No   \n",
       "1  +61 450709944     Darwin         AB-          Yes   \n",
       "2  +61 428756361  Melbourne         AB+          Yes   \n",
       "3  +61 454318320     Darwin          A-           No   \n",
       "4  +61 484158472     Darwin          O-           No   \n",
       "\n",
       "   months_since_first_donation  number_of_donation  pints_donated  created_at  \n",
       "0                           65                  31             62  2017-03-17  \n",
       "1                           64                   8             16  2016-11-11  \n",
       "2                           39                   6              6  2022-02-25  \n",
       "3                           55                  20             20  2025-04-04  \n",
       "4                            7                  35             35  2022-11-30  "
      ]
     },
     "execution_count": 3,
     "metadata": {},
     "output_type": "execute_result"
    }
   ],
   "source": [
    "df.head()"
   ]
  },
  {
   "cell_type": "code",
   "execution_count": 4,
   "id": "9510cd99",
   "metadata": {},
   "outputs": [
    {
     "data": {
      "text/plain": [
       "<bound method DataFrame.info of         donor_id              name                          email    password  \\\n",
       "0     1b8b4c828a      Norma Fisher            ysullivan@yahoo.com  P5hX6Syg*A   \n",
       "1     a6a3f7fe55     Eugene Bowman       hramos@brown-sellers.com  b6Wq6Cqz@5   \n",
       "2     cee6478144  Sheri Bolton DDS          jasmine85@hotmail.com  $9RB51m#s7   \n",
       "3     5986bc55f9        Kelly Boyd  pattylawrence@riley-hayes.com  @5Tdg(4kCm   \n",
       "4     93246afe6c     Taylor Guzman       martinezjacob@wilson.com  x!)9Ag@J*7   \n",
       "...          ...               ...                            ...         ...   \n",
       "9995  700aeefbf1      Bradley Pham           jessica49@turner.com  ^@d9SMqSa1   \n",
       "9996  487b342992    Richard Harris              megan51@gmail.com  D1OAZg5i)g   \n",
       "9997  ddf4485d67        Autumn Kim       curtisdonald@wilson.info  3wU2fua(#7   \n",
       "9998  4256813ba5     Janice Murphy   jenningscristian@hotmail.com  &8zDeXl)b(   \n",
       "9999  5452d8afd3     Edward Graham               oyates@yahoo.com  ud(J5UjHh9   \n",
       "\n",
       "     contact_number       city blood_group availability  \\\n",
       "0     +61 461706749     Hobart          A+           No   \n",
       "1     +61 450709944     Darwin         AB-          Yes   \n",
       "2     +61 428756361  Melbourne         AB+          Yes   \n",
       "3     +61 454318320     Darwin          A-           No   \n",
       "4     +61 484158472     Darwin          O-           No   \n",
       "...             ...        ...         ...          ...   \n",
       "9995  +61 443906132     Hobart          A+          Yes   \n",
       "9996  +61 443105290     Hobart          O-           No   \n",
       "9997  +61 472390553     Hobart          B+           No   \n",
       "9998  +61 492945719      Perth         AB-          Yes   \n",
       "9999  +61 475905869   Canberra          O-           No   \n",
       "\n",
       "      months_since_first_donation  number_of_donation  pints_donated  \\\n",
       "0                              65                  31             62   \n",
       "1                              64                   8             16   \n",
       "2                              39                   6              6   \n",
       "3                              55                  20             20   \n",
       "4                               7                  35             35   \n",
       "...                           ...                 ...            ...   \n",
       "9995                           66                  42             42   \n",
       "9996                           65                  14             28   \n",
       "9997                           57                  16             32   \n",
       "9998                           79                  23             46   \n",
       "9999                          103                   8              8   \n",
       "\n",
       "      created_at  \n",
       "0     2017-03-17  \n",
       "1     2016-11-11  \n",
       "2     2022-02-25  \n",
       "3     2025-04-04  \n",
       "4     2022-11-30  \n",
       "...          ...  \n",
       "9995  2019-02-11  \n",
       "9996  2025-02-18  \n",
       "9997  2019-04-29  \n",
       "9998  2022-08-23  \n",
       "9999  2016-09-28  \n",
       "\n",
       "[10000 rows x 12 columns]>"
      ]
     },
     "execution_count": 4,
     "metadata": {},
     "output_type": "execute_result"
    }
   ],
   "source": [
    "df.info"
   ]
  },
  {
   "cell_type": "code",
   "execution_count": 12,
   "id": "cc98c56d",
   "metadata": {},
   "outputs": [
    {
     "data": {
      "text/plain": [
       "(10000, 12)"
      ]
     },
     "execution_count": 12,
     "metadata": {},
     "output_type": "execute_result"
    }
   ],
   "source": [
    "df.shape"
   ]
  },
  {
   "cell_type": "code",
   "execution_count": null,
   "id": "265b8c50",
   "metadata": {},
   "outputs": [],
   "source": []
  },
  {
   "cell_type": "code",
   "execution_count": null,
   "id": "5c26d731",
   "metadata": {},
   "outputs": [],
   "source": []
  },
  {
   "cell_type": "code",
   "execution_count": null,
   "id": "55c4a529",
   "metadata": {},
   "outputs": [],
   "source": []
  },
  {
   "cell_type": "code",
   "execution_count": 11,
   "id": "8814e98d",
   "metadata": {},
   "outputs": [
    {
     "data": {
      "text/plain": [
       "(10000, 12)"
      ]
     },
     "execution_count": 11,
     "metadata": {},
     "output_type": "execute_result"
    }
   ],
   "source": [
    "df.shape"
   ]
  }
 ],
 "metadata": {
  "kernelspec": {
   "display_name": "Python 3",
   "language": "python",
   "name": "python3"
  },
  "language_info": {
   "codemirror_mode": {
    "name": "ipython",
    "version": 3
   },
   "file_extension": ".py",
   "mimetype": "text/x-python",
   "name": "python",
   "nbconvert_exporter": "python",
   "pygments_lexer": "ipython3",
   "version": "3.12.1"
  }
 },
 "nbformat": 4,
 "nbformat_minor": 5
}
