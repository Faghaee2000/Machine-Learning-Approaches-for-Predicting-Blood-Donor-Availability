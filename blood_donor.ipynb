{
 "cells": [
  {
   "cell_type": "code",
   "execution_count": 1,
   "id": "33469802",
   "metadata": {},
   "outputs": [],
   "source": [
    "import pandas as pd"
   ]
  },
  {
   "cell_type": "code",
   "execution_count": 2,
   "id": "66549970",
   "metadata": {},
   "outputs": [],
   "source": [
    "df = pd.read_csv(\"blood_donor_dataset.csv\")"
   ]
  },
  {
   "cell_type": "code",
   "execution_count": 12,
   "id": "cc98c56d",
   "metadata": {},
   "outputs": [
    {
     "data": {
      "text/plain": [
       "(10000, 12)"
      ]
     },
     "execution_count": 12,
     "metadata": {},
     "output_type": "execute_result"
    }
   ],
   "source": [
    "df.shape"
   ]
  },
  {
   "cell_type": "code",
   "execution_count": 13,
   "id": "ae122aa4",
   "metadata": {},
   "outputs": [
    {
     "data": {
      "text/plain": [
       "Index(['donor_id', 'name', 'email', 'password', 'contact_number', 'city',\n",
       "       'blood_group', 'availability', 'months_since_first_donation',\n",
       "       'number_of_donation', 'pints_donated', 'created_at'],\n",
       "      dtype='object')"
      ]
     },
     "execution_count": 13,
     "metadata": {},
     "output_type": "execute_result"
    }
   ],
   "source": [
    "df.columns"
   ]
  },
  {
   "cell_type": "code",
   "execution_count": 14,
   "id": "be3cd99e",
   "metadata": {},
   "outputs": [
    {
     "data": {
      "text/plain": [
       "<bound method NDFrame.describe of         donor_id              name                          email    password  \\\n",
       "0     1b8b4c828a      Norma Fisher            ysullivan@yahoo.com  P5hX6Syg*A   \n",
       "1     a6a3f7fe55     Eugene Bowman       hramos@brown-sellers.com  b6Wq6Cqz@5   \n",
       "2     cee6478144  Sheri Bolton DDS          jasmine85@hotmail.com  $9RB51m#s7   \n",
       "3     5986bc55f9        Kelly Boyd  pattylawrence@riley-hayes.com  @5Tdg(4kCm   \n",
       "4     93246afe6c     Taylor Guzman       martinezjacob@wilson.com  x!)9Ag@J*7   \n",
       "...          ...               ...                            ...         ...   \n",
       "9995  700aeefbf1      Bradley Pham           jessica49@turner.com  ^@d9SMqSa1   \n",
       "9996  487b342992    Richard Harris              megan51@gmail.com  D1OAZg5i)g   \n",
       "9997  ddf4485d67        Autumn Kim       curtisdonald@wilson.info  3wU2fua(#7   \n",
       "9998  4256813ba5     Janice Murphy   jenningscristian@hotmail.com  &8zDeXl)b(   \n",
       "9999  5452d8afd3     Edward Graham               oyates@yahoo.com  ud(J5UjHh9   \n",
       "\n",
       "     contact_number       city blood_group availability  \\\n",
       "0     +61 461706749     Hobart          A+           No   \n",
       "1     +61 450709944     Darwin         AB-          Yes   \n",
       "2     +61 428756361  Melbourne         AB+          Yes   \n",
       "3     +61 454318320     Darwin          A-           No   \n",
       "4     +61 484158472     Darwin          O-           No   \n",
       "...             ...        ...         ...          ...   \n",
       "9995  +61 443906132     Hobart          A+          Yes   \n",
       "9996  +61 443105290     Hobart          O-           No   \n",
       "9997  +61 472390553     Hobart          B+           No   \n",
       "9998  +61 492945719      Perth         AB-          Yes   \n",
       "9999  +61 475905869   Canberra          O-           No   \n",
       "\n",
       "      months_since_first_donation  number_of_donation  pints_donated  \\\n",
       "0                              65                  31             62   \n",
       "1                              64                   8             16   \n",
       "2                              39                   6              6   \n",
       "3                              55                  20             20   \n",
       "4                               7                  35             35   \n",
       "...                           ...                 ...            ...   \n",
       "9995                           66                  42             42   \n",
       "9996                           65                  14             28   \n",
       "9997                           57                  16             32   \n",
       "9998                           79                  23             46   \n",
       "9999                          103                   8              8   \n",
       "\n",
       "      created_at  \n",
       "0     2017-03-17  \n",
       "1     2016-11-11  \n",
       "2     2022-02-25  \n",
       "3     2025-04-04  \n",
       "4     2022-11-30  \n",
       "...          ...  \n",
       "9995  2019-02-11  \n",
       "9996  2025-02-18  \n",
       "9997  2019-04-29  \n",
       "9998  2022-08-23  \n",
       "9999  2016-09-28  \n",
       "\n",
       "[10000 rows x 12 columns]>"
      ]
     },
     "execution_count": 14,
     "metadata": {},
     "output_type": "execute_result"
    }
   ],
   "source": [
    "df.describe"
   ]
  },
  {
   "cell_type": "code",
   "execution_count": 15,
   "id": "74362f96",
   "metadata": {},
   "outputs": [],
   "source": [
    "df = df.drop(columns=['donor_id', 'name', 'email', 'password', 'contact_number', 'city', 'created_at'])\n"
   ]
  },
  {
   "cell_type": "code",
   "execution_count": 16,
   "id": "109665b2",
   "metadata": {},
   "outputs": [
    {
     "data": {
      "text/plain": [
       "blood_group                    0\n",
       "availability                   0\n",
       "months_since_first_donation    0\n",
       "number_of_donation             0\n",
       "pints_donated                  0\n",
       "dtype: int64"
      ]
     },
     "execution_count": 16,
     "metadata": {},
     "output_type": "execute_result"
    }
   ],
   "source": [
    "df.isnull().sum()"
   ]
  },
  {
   "cell_type": "code",
   "execution_count": 18,
   "id": "2e503a60",
   "metadata": {},
   "outputs": [],
   "source": [
    "df = df.dropna()"
   ]
  },
  {
   "cell_type": "code",
   "execution_count": 19,
   "id": "f19553f8",
   "metadata": {},
   "outputs": [],
   "source": [
    "from sklearn.model_selection import train_test_split\n",
    "from sklearn.preprocessing import LabelEncoder, StandardScaler"
   ]
  },
  {
   "cell_type": "code",
   "execution_count": 20,
   "id": "1a17ae22",
   "metadata": {},
   "outputs": [],
   "source": [
    "le=LabelEncoder()\n",
    "df['blood_group'] = le.fit_transform(df['blood_group'])"
   ]
  },
  {
   "cell_type": "code",
   "execution_count": 21,
   "id": "0eb90337",
   "metadata": {},
   "outputs": [],
   "source": [
    "X = df.drop(columns=['availability'])\n",
    "y = df['availability']"
   ]
  },
  {
   "cell_type": "code",
   "execution_count": 22,
   "id": "4a8c2586",
   "metadata": {},
   "outputs": [],
   "source": [
    "scaler=StandardScaler()\n",
    "X_scaled= scaler.fit_transform(X)"
   ]
  },
  {
   "cell_type": "code",
   "execution_count": 23,
   "id": "7f39197e",
   "metadata": {},
   "outputs": [],
   "source": [
    "X_train, X_test, y_train, y_test = train_test_split(X_scaled, y, test_size=0.2, random_state=42)"
   ]
  },
  {
   "cell_type": "code",
   "execution_count": 24,
   "id": "41038336",
   "metadata": {},
   "outputs": [
    {
     "name": "stdout",
     "output_type": "stream",
     "text": [
      "Shape of training Set: (8000, 4)\n",
      "Shape of testing Set: (2000, 4)\n"
     ]
    }
   ],
   "source": [
    "print(\"Shape of training Set:\", X_train.shape)\n",
    "print(\"Shape of testing Set:\", X_test.shape)"
   ]
  }
 ],
 "metadata": {
  "kernelspec": {
   "display_name": "Python 3",
   "language": "python",
   "name": "python3"
  },
  "language_info": {
   "codemirror_mode": {
    "name": "ipython",
    "version": 3
   },
   "file_extension": ".py",
   "mimetype": "text/x-python",
   "name": "python",
   "nbconvert_exporter": "python",
   "pygments_lexer": "ipython3",
   "version": "3.12.1"
  }
 },
 "nbformat": 4,
 "nbformat_minor": 5
}
